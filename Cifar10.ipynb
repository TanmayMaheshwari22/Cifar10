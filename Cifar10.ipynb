{
 "cells": [
  {
   "cell_type": "code",
   "execution_count": 2,
   "metadata": {
    "id": "saECj6uu6LKj"
   },
   "outputs": [],
   "source": [
    "import numpy as np\n",
    "import pickle\n",
    "import os\n",
    "import download\n",
    "from dataset import one_hot_encoded\n",
    "import cifar10"
   ]
  },
  {
   "cell_type": "code",
   "execution_count": 3,
   "metadata": {
    "colab": {
     "base_uri": "https://localhost:8080/"
    },
    "id": "RYMHfjfy8ukP",
    "outputId": "de387fa0-20c7-4c12-e81e-06bfb9214ffd"
   },
   "outputs": [
    {
     "name": "stdout",
     "output_type": "stream",
     "text": [
      "[Errno 2] No such file or directory: '/content/drive/MyDrive/Colab Notebooks'\n",
      "/content\n"
     ]
    }
   ],
   "source": [
    "%cd '/content/drive/MyDrive/Colab Notebooks'"
   ]
  },
  {
   "cell_type": "code",
   "execution_count": 4,
   "metadata": {
    "id": "Tl-Kifuq6mBW"
   },
   "outputs": [],
   "source": [
    "cifar10.data_path = \"data/CIFAR-10/Desktop\""
   ]
  },
  {
   "cell_type": "code",
   "execution_count": 5,
   "metadata": {
    "colab": {
     "base_uri": "https://localhost:8080/"
    },
    "id": "7ZpYrVHA7Lwc",
    "outputId": "78729010-71cc-4d38-a2b7-a2c1c5bdbb33"
   },
   "outputs": [
    {
     "name": "stdout",
     "output_type": "stream",
     "text": [
      "Data has apparently already been downloaded and unpacked.\n"
     ]
    }
   ],
   "source": [
    "cifar10.maybe_download_and_extract()"
   ]
  },
  {
   "cell_type": "code",
   "execution_count": 6,
   "metadata": {
    "colab": {
     "base_uri": "https://localhost:8080/"
    },
    "id": "c7gZQqOt7tg7",
    "outputId": "dbf7d7a4-4155-4ad0-d907-25a16e95d639"
   },
   "outputs": [
    {
     "name": "stdout",
     "output_type": "stream",
     "text": [
      "Loading data: data/CIFAR-10/Desktop/cifar-10-batches-py/batches.meta\n"
     ]
    },
    {
     "data": {
      "text/plain": [
       "['airplane',\n",
       " 'automobile',\n",
       " 'bird',\n",
       " 'cat',\n",
       " 'deer',\n",
       " 'dog',\n",
       " 'frog',\n",
       " 'horse',\n",
       " 'ship',\n",
       " 'truck']"
      ]
     },
     "execution_count": 6,
     "metadata": {
      "tags": []
     },
     "output_type": "execute_result"
    }
   ],
   "source": [
    "class_names = cifar10.load_class_names()\n",
    "class_names"
   ]
  },
  {
   "cell_type": "code",
   "execution_count": 7,
   "metadata": {
    "colab": {
     "base_uri": "https://localhost:8080/"
    },
    "id": "r0jyl3j_7vac",
    "outputId": "382f9173-121b-4634-9e6e-b36dd90b878f"
   },
   "outputs": [
    {
     "name": "stdout",
     "output_type": "stream",
     "text": [
      "Loading data: data/CIFAR-10/Desktop/cifar-10-batches-py/data_batch_1\n",
      "Loading data: data/CIFAR-10/Desktop/cifar-10-batches-py/data_batch_2\n",
      "Loading data: data/CIFAR-10/Desktop/cifar-10-batches-py/data_batch_3\n",
      "Loading data: data/CIFAR-10/Desktop/cifar-10-batches-py/data_batch_4\n",
      "Loading data: data/CIFAR-10/Desktop/cifar-10-batches-py/data_batch_5\n",
      "Loading data: data/CIFAR-10/Desktop/cifar-10-batches-py/test_batch\n"
     ]
    }
   ],
   "source": [
    "images_train, cls_train, labels_train = cifar10.load_training_data()\n",
    "images_test, cls_test, labels_test = cifar10.load_test_data()"
   ]
  },
  {
   "cell_type": "code",
   "execution_count": 9,
   "metadata": {
    "id": "a8eEu6TL7vdP"
   },
   "outputs": [],
   "source": [
    "from sklearn import svm\n",
    "from sklearn.decomposition import PCA\n",
    "from sklearn.svm import SVC\n",
    "from sklearn.model_selection import cross_val_score,KFold,GridSearchCV"
   ]
  },
  {
   "cell_type": "code",
   "execution_count": 10,
   "metadata": {
    "id": "P8A5-MLi7vgl"
   },
   "outputs": [],
   "source": [
    "x_train=images_train.reshape(50000,3072)\n",
    "y_train=cls_train\n",
    "x_test=images_test.reshape(10000,3072)\n",
    "y_test=cls_test"
   ]
  },
  {
   "cell_type": "code",
   "execution_count": 11,
   "metadata": {
    "colab": {
     "base_uri": "https://localhost:8080/"
    },
    "id": "8jKD9brk7vjj",
    "outputId": "edd9d340-9a9b-43eb-8092-e45f8887cd4a"
   },
   "outputs": [
    {
     "data": {
      "text/plain": [
       "PCA(copy=True, iterated_power='auto', n_components=None, random_state=None,\n",
       "    svd_solver='auto', tol=0.0, whiten=False)"
      ]
     },
     "execution_count": 11,
     "metadata": {
      "tags": []
     },
     "output_type": "execute_result"
    }
   ],
   "source": [
    "cifar_pca=PCA()\n",
    "cifar_pca.fit(x_train)"
   ]
  },
  {
   "cell_type": "code",
   "execution_count": 12,
   "metadata": {
    "colab": {
     "base_uri": "https://localhost:8080/"
    },
    "id": "owd4vSyo7vmV",
    "outputId": "d8cfae22-6149-451c-e249-f7ffb661c713"
   },
   "outputs": [
    {
     "data": {
      "text/plain": [
       "217"
      ]
     },
     "execution_count": 12,
     "metadata": {
      "tags": []
     },
     "output_type": "execute_result"
    }
   ],
   "source": [
    "k=0\n",
    "total=0\n",
    "while total<0.95:\n",
    "    total+=cifar_pca.explained_variance_ratio_[k]\n",
    "    k=k+1\n",
    "k    "
   ]
  },
  {
   "cell_type": "code",
   "execution_count": 13,
   "metadata": {
    "id": "MIIcaHog7vo_"
   },
   "outputs": [],
   "source": [
    "pca_cifar=PCA(n_components=k,whiten=True)\n",
    "x_pca_train=pca_cifar.fit_transform(x_train)\n",
    "x_pca_test=pca_cifar.transform(x_test)"
   ]
  },
  {
   "cell_type": "code",
   "execution_count": 20,
   "metadata": {
    "colab": {
     "base_uri": "https://localhost:8080/"
    },
    "id": "OpGFMRCa7vrt",
    "outputId": "0085d43a-3dc6-4afe-b7fd-8741846073b4"
   },
   "outputs": [
    {
     "data": {
      "text/plain": [
       "SVC(C=1.0, break_ties=False, cache_size=200, class_weight=None, coef0=0.0,\n",
       "    decision_function_shape='ovr', degree=3, gamma='scale', kernel='rbf',\n",
       "    max_iter=-1, probability=False, random_state=None, shrinking=True,\n",
       "    tol=0.001, verbose=False)"
      ]
     },
     "execution_count": 20,
     "metadata": {
      "tags": []
     },
     "output_type": "execute_result"
    }
   ],
   "source": [
    "clf = svm.SVC()\n",
    "clf.fit(x_pca_train,y_train)"
   ]
  },
  {
   "cell_type": "code",
   "execution_count": 22,
   "metadata": {
    "id": "XLeIKwpnuv_3"
   },
   "outputs": [],
   "source": [
    "y_pred=clf.predict(x_pca_test)"
   ]
  },
  {
   "cell_type": "code",
   "execution_count": 23,
   "metadata": {
    "id": "Na2SLC_xvnCA"
   },
   "outputs": [],
   "source": [
    "class_name=[]\n",
    "for i in y_pred:\n",
    "    class_name.append(class_names[i])"
   ]
  },
  {
   "cell_type": "code",
   "execution_count": 24,
   "metadata": {
    "id": "q2Is-LNuv98U"
   },
   "outputs": [],
   "source": [
    "class_name=np.array(class_name)"
   ]
  },
  {
   "cell_type": "code",
   "execution_count": 25,
   "metadata": {
    "id": "2DG-ZPxnv-RE"
   },
   "outputs": [],
   "source": [
    "np.savetxt('pred.csv',class_name, fmt='%s', delimiter=',', encoding=None)"
   ]
  },
  {
   "cell_type": "code",
   "execution_count": 21,
   "metadata": {
    "colab": {
     "base_uri": "https://localhost:8080/"
    },
    "id": "u9EdW1I6xVBB",
    "outputId": "2f0b941d-1956-4dbf-e3d0-fdb1a7ab6558"
   },
   "outputs": [
    {
     "data": {
      "text/plain": [
       "0.5533"
      ]
     },
     "execution_count": 21,
     "metadata": {
      "tags": []
     },
     "output_type": "execute_result"
    }
   ],
   "source": [
    "clf.score(x_pca_test,y_test)"
   ]
  }
 ],
 "metadata": {
  "accelerator": "GPU",
  "colab": {
   "collapsed_sections": [],
   "name": "Cifar10",
   "provenance": []
  },
  "kernelspec": {
   "display_name": "Python 3",
   "language": "python",
   "name": "python3"
  },
  "language_info": {
   "codemirror_mode": {
    "name": "ipython",
    "version": 3
   },
   "file_extension": ".py",
   "mimetype": "text/x-python",
   "name": "python",
   "nbconvert_exporter": "python",
   "pygments_lexer": "ipython3",
   "version": "3.8.8"
  }
 },
 "nbformat": 4,
 "nbformat_minor": 1
}
